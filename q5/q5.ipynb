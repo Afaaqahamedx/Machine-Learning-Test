{
 "cells": [
  {
   "cell_type": "code",
   "execution_count": null,
   "metadata": {
    "id": "QB_cWkldEkcY"
   },
   "outputs": [],
   "source": [
    "#Q5"
   ]
  },
  {
   "cell_type": "code",
   "execution_count": 10,
   "metadata": {
    "id": "Gg4wCr35EuNU"
   },
   "outputs": [],
   "source": [
    "import pandas as pd\n",
    "import numpy as np\n",
    "from numpy import math\n",
    "from sklearn.preprocessing import MinMaxScaler\n",
    "import matplotlib.pyplot as plt"
   ]
  },
  {
   "cell_type": "code",
   "execution_count": 11,
   "metadata": {
    "id": "v-MPwQHWE4n5"
   },
   "outputs": [],
   "source": [
    "df=pd.read_csv('train.csv')"
   ]
  },
  {
   "cell_type": "code",
   "execution_count": 12,
   "metadata": {
    "id": "T9Y1zYvrE8Q2"
   },
   "outputs": [],
   "source": [
    "x1=df['GrLivArea']\n",
    "x2=df['TotalBsmtSF']\n",
    "y=df['SalePrice']"
   ]
  },
  {
   "cell_type": "code",
   "execution_count": 13,
   "metadata": {
    "colab": {
     "base_uri": "https://localhost:8080/"
    },
    "id": "i3onEv1NFCUW",
    "outputId": "86709b67-ec4b-4a38-c197-1246106082df"
   },
   "outputs": [
    {
     "data": {
      "text/plain": [
       "(1460, 3)"
      ]
     },
     "execution_count": 13,
     "metadata": {},
     "output_type": "execute_result"
    }
   ],
   "source": [
    "x1=(x1-x1.mean()/x1.std())\n",
    "x2=(x2-x2.mean()/x2.std())\n",
    "#For e.g x1=[1,2,3], x2=[4,5,6] \n",
    "#to convert them into\n",
    "#([1 4]\n",
    "#[2 5]\n",
    "#[3 6])\n",
    "#we use np.c_\n",
    "x=np.c_[x1,x2,np.ones(x1.shape[0])]\n",
    "x.shape"
   ]
  },
  {
   "cell_type": "code",
   "execution_count": 14,
   "metadata": {
    "colab": {
     "base_uri": "https://localhost:8080/"
    },
    "id": "akJbrQluF1w2",
    "outputId": "9d34da0b-691f-4c99-b1c2-326b1bc449d5"
   },
   "outputs": [
    {
     "name": "stdout",
     "output_type": "stream",
     "text": [
      "[    81.876807       66.49982391 -13082.58865708]\n",
      "\n",
      "Total time taken =  0.0009980201721191406\n"
     ]
    }
   ],
   "source": [
    "import time\n",
    "start = time.time()\n",
    "newCoeff = np.linalg.inv(x.T.dot(x)).dot(x.T).dot(y)\n",
    "print(newCoeff)\n",
    "end = time.time()\n",
    "total = end - start\n",
    "print(\"\\nTotal time taken = \",total)"
   ]
  },
  {
   "cell_type": "code",
   "execution_count": null,
   "metadata": {},
   "outputs": [],
   "source": []
  }
 ],
 "metadata": {
  "colab": {
   "provenance": []
  },
  "kernelspec": {
   "display_name": "Python 3 (ipykernel)",
   "language": "python",
   "name": "python3"
  },
  "language_info": {
   "codemirror_mode": {
    "name": "ipython",
    "version": 3
   },
   "file_extension": ".py",
   "mimetype": "text/x-python",
   "name": "python",
   "nbconvert_exporter": "python",
   "pygments_lexer": "ipython3",
   "version": "3.9.12"
  }
 },
 "nbformat": 4,
 "nbformat_minor": 1
}
